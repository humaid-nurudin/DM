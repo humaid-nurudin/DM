{
  "nbformat": 4,
  "nbformat_minor": 0,
  "metadata": {
    "colab": {
      "name": "ANN1.ipynb",
      "provenance": [],
      "authorship_tag": "ABX9TyMKKrfUhGSLuutqhVbylA+O",
      "include_colab_link": true
    },
    "kernelspec": {
      "name": "python3",
      "display_name": "Python 3"
    },
    "language_info": {
      "name": "python"
    }
  },
  "cells": [
    {
      "cell_type": "markdown",
      "metadata": {
        "id": "view-in-github",
        "colab_type": "text"
      },
      "source": [
        "<a href=\"https://colab.research.google.com/github/angelitaanap/Data_Mining/blob/main/ANN1.ipynb\" target=\"_parent\"><img src=\"https://colab.research.google.com/assets/colab-badge.svg\" alt=\"Open In Colab\"/></a>"
      ]
    },
    {
      "cell_type": "code",
      "execution_count": 1,
      "metadata": {
        "colab": {
          "base_uri": "https://localhost:8080/"
        },
        "id": "6GfbSRGoWdFP",
        "outputId": "c0077d14-c870-446f-9b60-d1ba08db48ba"
      },
      "outputs": [
        {
          "output_type": "stream",
          "name": "stdout",
          "text": [
            "Output Layer Output (Linear)\n",
            "===============================\n",
            "[[23.]\n",
            " [26.]\n",
            " [29.]\n",
            " [32.]] \n",
            "\n"
          ]
        }
      ],
      "source": [
        "import numpy as np\n",
        "\n",
        "\n",
        "# In[2]:\n",
        "\n",
        "\n",
        "def forwardPass(inputs, weight, bias):\n",
        "        w_sum = np.dot(inputs, weight) + bias\n",
        "\n",
        "        # Linier Activation f(x) = x\n",
        "        act = w_sum\n",
        "\n",
        "        return act\n",
        "\n",
        "\n",
        "# In[3]:\n",
        "\n",
        "\n",
        "#pre-Trained Weight & Biases after Training\n",
        "W= np.array([[2.9999999999]])\n",
        "b= np.array([[1.999999999]])\n",
        "\n",
        "\n",
        "# In[4]:\n",
        "\n",
        "\n",
        "#Initialize Input Data\n",
        "inputs = np.array([[7], [8], [9], [10]])\n",
        "\n",
        "\n",
        "# In[5]:\n",
        "\n",
        "\n",
        "# Output of Output Layer\n",
        "o_out = forwardPass(inputs, W, b)\n",
        "\n",
        "\n",
        "# In[6]:\n",
        "\n",
        "\n",
        "print('Output Layer Output (Linear)')\n",
        "print('===============================')\n",
        "print(o_out, \"\\n\")\n",
        "\n",
        "\n",
        "# In[ ]:"
      ]
    },
    {
      "cell_type": "code",
      "source": [
        ""
      ],
      "metadata": {
        "id": "bHwCLHOlZnG0"
      },
      "execution_count": null,
      "outputs": []
    }
  ]
}