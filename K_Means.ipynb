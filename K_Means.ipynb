{
  "nbformat": 4,
  "nbformat_minor": 0,
  "metadata": {
    "colab": {
      "name": "K-Means.ipynb",
      "provenance": [],
      "authorship_tag": "ABX9TyPlMNqeBrgNLGjNVEEz2Obv",
      "include_colab_link": true
    },
    "kernelspec": {
      "name": "python3",
      "display_name": "Python 3"
    },
    "language_info": {
      "name": "python"
    }
  },
  "cells": [
    {
      "cell_type": "markdown",
      "metadata": {
        "id": "view-in-github",
        "colab_type": "text"
      },
      "source": [
        "<a href=\"https://colab.research.google.com/github/angelitaanap/Data_Mining/blob/main/K_Means.ipynb\" target=\"_parent\"><img src=\"https://colab.research.google.com/assets/colab-badge.svg\" alt=\"Open In Colab\"/></a>"
      ]
    },
    {
      "cell_type": "code",
      "execution_count": 1,
      "metadata": {
        "id": "yqfJ3tvLZNn9"
      },
      "outputs": [],
      "source": [
        "from sklearn import datasets\n",
        "from sklearn.cluster import KMeans\n",
        "from sklearn.preprocessing import StandardScaler\n",
        "from scipy.spatial.distance import cdist\n",
        "import matplotlib.pyplot as plt"
      ]
    },
    {
      "cell_type": "code",
      "source": [
        "iris = datasets.load_iris()\n",
        "features = iris.data\n",
        "plt.scatter(features[:,0], features[:,1])\n",
        "plt.show()"
      ],
      "metadata": {
        "colab": {
          "base_uri": "https://localhost:8080/",
          "height": 268
        },
        "id": "Us5sq_L1ZpbM",
        "outputId": "7353d2b3-6dec-411f-fb56-1ed253107e31"
      },
      "execution_count": 2,
      "outputs": [
        {
          "output_type": "display_data",
          "data": {
            "text/plain": [
              "<Figure size 432x288 with 1 Axes>"
            ],
            "image/png": "[encoded data removed]"
          },
          "metadata": {
            "needs_background": "light"
          }
        }
      ]
    },
    {
      "cell_type": "code",
      "source": [
        "scaler = StandardScaler()\n",
        "features_standardized = scaler.fit_transform(features)"
      ],
      "metadata": {
        "id": "ykpA7VaCZph3"
      },
      "execution_count": 3,
      "outputs": []
    },
    {
      "cell_type": "code",
      "source": [
        "from sklearn.metrics import silhouette_samples, silhouette_score\n",
        "wcss = []\n",
        "for i in range(1, 11):\n",
        "    kmeans = KMeans(n_clusters = i, init = 'k-means++',\n",
        "                   max_iter = 300, n_init = 10, random_state = 0)\n",
        "    kmeans.fit(features)\n",
        "    wcss.append(kmeans.inertia_)\n",
        "plt.plot(range(1, 11), wcss)\n",
        "plt.title('Elbow Method')\n",
        "plt.xlabel('Number of clusters')\n",
        "plt.ylabel('WCSS')\n",
        "plt.show()"
      ],
      "metadata": {
        "colab": {
          "base_uri": "https://localhost:8080/",
          "height": 295
        },
        "id": "u5q7T__UZuPP",
        "outputId": "6c66a545-b2fa-4fdb-ff35-811131285319"
      },
      "execution_count": 4,
      "outputs": [
        {
          "output_type": "display_data",
          "data": {
            "text/plain": [
              "<Figure size 432x288 with 1 Axes>"
            ],
            "image/png": "[encoded data removed]"
          },
          "metadata": {
            "needs_background": "light"
          }
        }
      ]
    },
    {
      "cell_type": "code",
      "source": [
        "kmeans = KMeans(n_clusters = 4, init = 'k-means++', max_iter = 300, n_init = 10, random_state = 0)\n",
        "pred_y = kmeans.fit_predict(features)\n",
        "plt.scatter(features[:,0], features[:,1])\n",
        "plt.scatter(kmeans.cluster_centers_[:,0], kmeans.cluster_centers_[:,1], s = 300, c = 'yellow')\n",
        "plt.show()"
      ],
      "metadata": {
        "colab": {
          "base_uri": "https://localhost:8080/",
          "height": 268
        },
        "id": "OQxJ2VCOZzHG",
        "outputId": "38534ccc-985e-4ddb-8227-5e23ea439029"
      },
      "execution_count": 5,
      "outputs": [
        {
          "output_type": "display_data",
          "data": {
            "text/plain": [
              "<Figure size 432x288 with 1 Axes>"
            ],
            "image/png": "[encoded data removed]"
          },
          "metadata": {
            "needs_background": "light"
          }
        }
      ]
    },
    {
      "cell_type": "code",
      "source": [
        "import numpy as np\n",
        "from matplotlib import pyplot as plt\n",
        "from matplotlib.pyplot import cm\n",
        "import time\n",
        "import itertools"
      ],
      "metadata": {
        "id": "_T_-pRVpZ2ZO"
      },
      "execution_count": 6,
      "outputs": []
    },
    {
      "cell_type": "code",
      "source": [
        "datasetPath = \"dataku.txt\"\n",
        "dataset = np.loadtxt(datasetPath, delimiter = \" \")"
      ],
      "metadata": {
        "id": "pOgcvHaAaCAc"
      },
      "execution_count": null,
      "outputs": []
    },
    {
      "cell_type": "code",
      "source": [
        "k = 2\n",
        "iterationCounter = 0\n",
        "input = dataset\n",
        "def initCentroid(dataIn, k):\n",
        "    result = dataIn[np.random.choice(dataIn.shape[0], k, replace = False)]\n",
        "    return result"
      ],
      "metadata": {
        "id": "pw0r97T3aEzd"
      },
      "execution_count": null,
      "outputs": []
    },
    {
      "cell_type": "code",
      "source": [
        "def plotClusterResult(listClusterMembers, centroid, iteration, converged):\n",
        "    n = listClusterMembers.__len__()\n",
        "    color = iter(cm.rainbow(np.linspace(0, 1, n)))\n",
        "    plt.figure(\"result\")\n",
        "    plt.clf()\n",
        "    plt.title(\"iteration-\" + iteration)\n",
        "    marker = itertools.cycle(('.', '*', '^', 'x', '+'))\n",
        "    for i in range(n):\n",
        "        col = next(color)\n",
        "        memberCluster = np.asmatrix(listClusterMembers[i])\n",
        "        plt.scatter(np.ravel(memberCluster[:, 0]), np.ravel(memberCluster[:,1]),\n",
        "                    marker=marker.__next__(), s=100, c=col, label=\"klaster-\"+str(i+1))\n",
        "    for i in range(n):\n",
        "        plt.scatter((centroid[i, 0]), (centroid[i, 1]), marker=marker.__next__(), \n",
        "                    c=col, label=\"centroid-\" + str(i+1))\n",
        "    if(converged == 0):\n",
        "        plt.legend()\n",
        "        plt.ion()\n",
        "        plt.show()\n",
        "        plt.pause(0.1)\n",
        "    if(converged == 1):\n",
        "        plt.legend()\n",
        "        plt.show(block = True)"
      ],
      "metadata": {
        "id": "fk9RXbnQaICv"
      },
      "execution_count": null,
      "outputs": []
    },
    {
      "cell_type": "code",
      "source": [
        "def kMeans(data, centroidInit):\n",
        "    nCluster = k\n",
        "    global iterationCounter\n",
        "    centroidInit = np.matrix(centroidInit)\n",
        "    while(True):\n",
        "        iterationCounter +=1\n",
        "        euclideanMatrixAllCluster = np.ndarray(shape=(data.shape[0],0))\n",
        "        for i in range (0, nCluster):\n",
        "            centroidRepeated = np.repeat(centroidInit[i,:], data.shape[0], axis=0)\n",
        "            deltaMatrix = abs(np.subtract(data, centroidRepeated))\n",
        "            euclideanMatrix=np.sqrt(np.square(deltaMatrix).sum(axis=1))\n",
        "            euclideanMatrixAllCluster = \\\n",
        "                np.concatenate((euclideanMatrixAllCluster,euclideanMatrix),axis=1)\n",
        "        clusterMatrix = np.ravel(np.argmin(np.matrix(euclideanMatrixAllCluster),axis=1))\n",
        "        listClusterMember = [[]for i in range(k)]\n",
        "        for i in range(0, data.shape[0]):\n",
        "            listClusterMember[np.asscalar(clusterMatrix[i])].append(data[i,:])\n",
        "        newCentroid =np.ndarray(shape=(0, centroidInit.shape[1]))\n",
        "        for i in range (0, nCluster):\n",
        "            memberCluster = np.asmatrix(listClusterMember[i])\n",
        "            centroidCluster = memberCluster.mean(axis=0)\n",
        "            newCentroid = np.concatenate((newCentroid, centroidCluster), axis=0)\n",
        "        print(\"iter: \",iterationCounter)\n",
        "        print(\"centroid: \",newCentroid)\n",
        "        if((centroidInit == newCentroid).all()):\n",
        "            break\n",
        "        centroidInit = newCentroid\n",
        "        plotClusterResult(listClusterMember, centroidInit, str(iterationCounter),0)\n",
        "        time.sleep(1)\n",
        "    return listClusterMember, centroidInit"
      ],
      "metadata": {
        "id": "wsMkv01ZaMBO"
      },
      "execution_count": null,
      "outputs": []
    },
    {
      "cell_type": "code",
      "source": [
        "centroidInit = initCentroid(input, k)\n",
        "clusterResults, centroid = kMeans(input, centroidInit)\n",
        "plotClusterResult(clusterResults, centroid, str(iterationCounter) + \"(converged)\", 1)"
      ],
      "metadata": {
        "id": "CTyGU0DlaVmM"
      },
      "execution_count": null,
      "outputs": []
    },
    {
      "cell_type": "code",
      "source": [
        "import matplotlib.pyplot as plt\n",
        "import numpy as np\n",
        "import pandas as pd\n",
        "from sklearn.cluster import KMeans"
      ],
      "metadata": {
        "id": "W9FsZ7s5aWNQ"
      },
      "execution_count": null,
      "outputs": []
    },
    {
      "cell_type": "code",
      "source": [
        "dataset = pd.read_csv('konsumen.csv')\n",
        "dataset.keys()"
      ],
      "metadata": {
        "id": "11FBr_mSawLW"
      },
      "execution_count": null,
      "outputs": []
    },
    {
      "cell_type": "code",
      "source": [
        "dataku = pd.DataFrame(dataset)\n",
        "dataku.head()"
      ],
      "metadata": {
        "id": "TPUNI8FCa37w"
      },
      "execution_count": null,
      "outputs": []
    },
    {
      "cell_type": "code",
      "source": [
        "X = np.asarray(dataset)\n",
        "print(X)"
      ],
      "metadata": {
        "id": "oA5wRUmKa7aa"
      },
      "execution_count": null,
      "outputs": []
    },
    {
      "cell_type": "code",
      "source": [
        "plt.scatter(X[:,0], X[:,1], label='True Position')\n",
        "plt.xlabel('Gaji')\n",
        "plt.ylabel('pengeluaran')\n",
        "plt.title('grafik penyebaran data konsumen')\n",
        "plt.show"
      ],
      "metadata": {
        "id": "s9_xAc-Oa-2A"
      },
      "execution_count": null,
      "outputs": []
    },
    {
      "cell_type": "code",
      "source": [
        "kmeans = KMeans(n_clusters=2)\n",
        "kmeans.fit(X)"
      ],
      "metadata": {
        "id": "6P9as3q-bB-W"
      },
      "execution_count": null,
      "outputs": []
    },
    {
      "cell_type": "code",
      "source": [
        "print(kmeans.cluster_centers_)"
      ],
      "metadata": {
        "id": "B9BSrE9vbFgH"
      },
      "execution_count": null,
      "outputs": []
    },
    {
      "cell_type": "code",
      "source": [
        "plt.scatter(X[:,0], X[:,1], c=kmeans.labels_, cmap=\"rainbow\")\n",
        "plt.xlabel('Gaji')\n",
        "plt.ylabel('pengeluaran')\n",
        "plt.title('grafik hasil klastering data gaji dan pengeluaran konsumen')\n",
        "plt.show"
      ],
      "metadata": {
        "id": "apH5hpVmbIRi"
      },
      "execution_count": null,
      "outputs": []
    }
  ]
}