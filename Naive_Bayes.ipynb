{
 "cells": [
  {
   "cell_type": "markdown",
   "id": "1faa8e91-90d1-4942-a2ae-37f0888a59b3",
   "metadata": {},
   "source": [
    "Download Dataset From Kaggle"
   ]
  },
  {
   "cell_type": "code",
   "execution_count": 2,
   "id": "23e78593-495a-4aa8-9578-eea3e4d7399c",
   "metadata": {},
   "outputs": [
    {
     "name": "stdout",
     "output_type": "stream",
     "text": [
      "ref                                                                 title                                              size  lastUpdated          downloadCount  voteCount  usabilityRating  \n",
      "------------------------------------------------------------------  ------------------------------------------------  -----  -------------------  -------------  ---------  ---------------  \n",
      "datasets/uciml/iris                                                 Iris Species                                        4KB  2016-09-27 07:38:05         266503       2916  0.7941176        \n",
      "datasets/arshid/iris-flower-dataset                                 Iris Flower Dataset                               1010B  2018-03-22 15:18:06          49238        430  0.8235294        \n",
      "datasets/vikrishnan/iris-dataset                                    Iris Dataset                                       999B  2017-08-03 16:00:44           3619         28  0.7647059        \n",
      "datasets/therohk/ireland-historical-news                            Irish Times - Waxy-Wany News                       52MB  2021-09-25 10:52:48           3034        158  1.0              \n",
      "datasets/chuckyin/iris-datasets                                     Iris datasets                                       1KB  2017-03-10 09:35:43           2023         16  0.7352941        \n",
      "datasets/parulpandey/palmer-archipelago-antarctica-penguin-data     Palmer Archipelago (Antarctica) penguin data       11KB  2020-06-09 10:14:54          18928        164  0.9705882        \n",
      "datasets/rtatman/iris-dataset-json-version                          Iris Dataset (JSON Version)                         1KB  2018-04-06 20:21:31           6847         50  0.75             \n",
      "datasets/jillanisofttech/iris-dataset-uci                           Iris dataset uci                                    1KB  2021-11-06 15:11:47            101         19  1.0              \n",
      "datasets/fleanend/birds-songs-numeric-dataset                       Birds' Songs Numeric Dataset                       25MB  2019-04-01 09:09:46            889         26  0.9411765        \n",
      "datasets/conorrot/irish-weather-hourly-data                         Irish Weather (hourly data)                        67MB  2020-06-29 20:15:18           2047         42  0.8235294        \n",
      "datasets/saurabh00007/iriscsv                                       Iris.csv                                            1KB  2017-11-09 07:34:35          22802         67  0.4117647        \n",
      "datasets/jeffheaton/iris-computer-vision                            Iris Computer Vision                                5MB  2020-11-24 21:23:29            437         13  0.875            \n",
      "datasets/kamrankausar/iris-data                                     iris_data                                           1KB  2017-11-30 10:26:01           1200         14  0.64705884       \n",
      "datasets/styven/iris-dataset                                        Iris dataset                                        1KB  2017-11-04 14:10:12            823          8  0.29411766       \n",
      "datasets/arslanali4343/iris-species                                 Iris Species                                        2KB  2020-07-02 06:09:09             83         13  0.5625           \n",
      "datasets/olgabelitskaya/flower-color-images                         Flower Color Images                                50MB  2020-10-01 22:48:07           9500        170  0.75             \n",
      "datasets/naureenmohammad/mmu-iris-dataset                           MMU iris dataset                                   30MB  2020-07-25 18:38:33            975         27  0.5625           \n",
      "datasets/ashkhagan/palmer-penguins-datasetalternative-iris-dataset  Palmer Penguins Dataset-Alternative Iris Dataset    3KB  2020-06-30 06:30:43            482         12  0.8235294        \n",
      "datasets/shantanuss/iris-flower-dataset                             IRIS flower dataset                                 1KB  2020-01-18 19:43:18            239          3  0.9411765        \n",
      "datasets/jodx666/iris-is                                            IRIS is                                            981B  2018-02-16 09:11:35            344          6  0.3125           \n"
     ]
    }
   ],
   "source": [
    "!kaggle datasets list -s Iris"
   ]
  },
  {
   "cell_type": "code",
   "execution_count": 3,
   "id": "6c2305b4-317f-4f79-880b-fe480b43672e",
   "metadata": {},
   "outputs": [
    {
     "name": "stdout",
     "output_type": "stream",
     "text": [
      "Downloading iris-flower-dataset.zip to C:\\Users\\acer\\jupyter_notebook\\other\n",
      "\n"
     ]
    },
    {
     "name": "stderr",
     "output_type": "stream",
     "text": [
      "\n",
      "  0%|          | 0.00/1.31k [00:00<?, ?B/s]\n",
      "100%|##########| 1.31k/1.31k [00:00<00:00, 672kB/s]\n"
     ]
    }
   ],
   "source": [
    "!kaggle datasets download shantanuss/iris-flower-dataset --unzip "
   ]
  },
  {
   "cell_type": "markdown",
   "id": "a383bf8c-6a3d-4660-81f7-068b00f1d654",
   "metadata": {},
   "source": [
    "Import Needed Module"
   ]
  },
  {
   "cell_type": "code",
   "execution_count": 10,
   "id": "d3a1f1da-b58d-48b9-ada3-366039d4441d",
   "metadata": {},
   "outputs": [],
   "source": [
    "import pandas as pd\n",
    "from sklearn.model_selection import train_test_split\n",
    "from sklearn.naive_bayes import GaussianNB\n",
    "from sklearn.preprocessing import LabelEncoder"
   ]
  },
  {
   "cell_type": "markdown",
   "id": "654445d0-459f-46af-bc63-b0a9cf61bae6",
   "metadata": {},
   "source": [
    "Show First 5 Data"
   ]
  },
  {
   "cell_type": "code",
   "execution_count": 5,
   "id": "2f387162-045b-40b1-91c8-4cc544b72a66",
   "metadata": {},
   "outputs": [
    {
     "data": {
      "text/html": [
       "<div>\n",
       "<style scoped>\n",
       "    .dataframe tbody tr th:only-of-type {\n",
       "        vertical-align: middle;\n",
       "    }\n",
       "\n",
       "    .dataframe tbody tr th {\n",
       "        vertical-align: top;\n",
       "    }\n",
       "\n",
       "    .dataframe thead th {\n",
       "        text-align: right;\n",
       "    }\n",
       "</style>\n",
       "<table border=\"1\" class=\"dataframe\">\n",
       "  <thead>\n",
       "    <tr style=\"text-align: right;\">\n",
       "      <th></th>\n",
       "      <th>Id</th>\n",
       "      <th>SepalLengthCm</th>\n",
       "      <th>SepalWidthCm</th>\n",
       "      <th>PetalLengthCm</th>\n",
       "      <th>PetalWidthCm</th>\n",
       "      <th>Species</th>\n",
       "    </tr>\n",
       "  </thead>\n",
       "  <tbody>\n",
       "    <tr>\n",
       "      <th>0</th>\n",
       "      <td>1</td>\n",
       "      <td>5.1</td>\n",
       "      <td>3.5</td>\n",
       "      <td>1.4</td>\n",
       "      <td>0.2</td>\n",
       "      <td>Iris-setosa</td>\n",
       "    </tr>\n",
       "    <tr>\n",
       "      <th>1</th>\n",
       "      <td>2</td>\n",
       "      <td>4.9</td>\n",
       "      <td>3.0</td>\n",
       "      <td>1.4</td>\n",
       "      <td>0.2</td>\n",
       "      <td>Iris-setosa</td>\n",
       "    </tr>\n",
       "    <tr>\n",
       "      <th>2</th>\n",
       "      <td>3</td>\n",
       "      <td>4.7</td>\n",
       "      <td>3.2</td>\n",
       "      <td>1.3</td>\n",
       "      <td>0.2</td>\n",
       "      <td>Iris-setosa</td>\n",
       "    </tr>\n",
       "    <tr>\n",
       "      <th>3</th>\n",
       "      <td>4</td>\n",
       "      <td>4.6</td>\n",
       "      <td>3.1</td>\n",
       "      <td>1.5</td>\n",
       "      <td>0.2</td>\n",
       "      <td>Iris-setosa</td>\n",
       "    </tr>\n",
       "    <tr>\n",
       "      <th>4</th>\n",
       "      <td>5</td>\n",
       "      <td>5.0</td>\n",
       "      <td>3.6</td>\n",
       "      <td>1.4</td>\n",
       "      <td>0.2</td>\n",
       "      <td>Iris-setosa</td>\n",
       "    </tr>\n",
       "  </tbody>\n",
       "</table>\n",
       "</div>"
      ],
      "text/plain": [
       "   Id  SepalLengthCm  SepalWidthCm  PetalLengthCm  PetalWidthCm      Species\n",
       "0   1            5.1           3.5            1.4           0.2  Iris-setosa\n",
       "1   2            4.9           3.0            1.4           0.2  Iris-setosa\n",
       "2   3            4.7           3.2            1.3           0.2  Iris-setosa\n",
       "3   4            4.6           3.1            1.5           0.2  Iris-setosa\n",
       "4   5            5.0           3.6            1.4           0.2  Iris-setosa"
      ]
     },
     "execution_count": 5,
     "metadata": {},
     "output_type": "execute_result"
    }
   ],
   "source": [
    "bunga ='Iris_flower_dataset.csv'\n",
    "flower_data = pd.read_csv(bunga)\n",
    "flower_data.head()"
   ]
  },
  {
   "cell_type": "markdown",
   "id": "0c5312b7-d77d-4536-b7fe-1bdc3b8a26fe",
   "metadata": {},
   "source": [
    "Show Data Info"
   ]
  },
  {
   "cell_type": "code",
   "execution_count": 9,
   "id": "1d05327f-831d-4413-8221-74bdd37c5741",
   "metadata": {},
   "outputs": [
    {
     "name": "stdout",
     "output_type": "stream",
     "text": [
      "<class 'pandas.core.frame.DataFrame'>\n",
      "RangeIndex: 150 entries, 0 to 149\n",
      "Data columns (total 6 columns):\n",
      " #   Column         Non-Null Count  Dtype  \n",
      "---  ------         --------------  -----  \n",
      " 0   Id             150 non-null    int64  \n",
      " 1   SepalLengthCm  150 non-null    float64\n",
      " 2   SepalWidthCm   150 non-null    float64\n",
      " 3   PetalLengthCm  150 non-null    float64\n",
      " 4   PetalWidthCm   150 non-null    float64\n",
      " 5   Species        150 non-null    object \n",
      "dtypes: float64(4), int64(1), object(1)\n",
      "memory usage: 7.2+ KB\n"
     ]
    }
   ],
   "source": [
    "flower_data.info()"
   ]
  },
  {
   "cell_type": "markdown",
   "id": "b103da24-9cfd-475c-839e-017be365a2e6",
   "metadata": {},
   "source": [
    "Label Encoder"
   ]
  },
  {
   "cell_type": "code",
   "execution_count": 25,
   "id": "db221e84-51da-4273-b017-05b1cffed910",
   "metadata": {},
   "outputs": [
    {
     "name": "stdout",
     "output_type": "stream",
     "text": [
      "['Iris-setosa' 'Iris-setosa' 'Iris-setosa' 'Iris-setosa' 'Iris-setosa']\n",
      "\n",
      "[[5.1 3.5 1.4 0.2]\n",
      " [4.9 3.  1.4 0.2]\n",
      " [4.7 3.2 1.3 0.2]\n",
      " [4.6 3.1 1.5 0.2]\n",
      " [5.  3.6 1.4 0.2]]\n"
     ]
    }
   ],
   "source": [
    "X = flower_data.iloc[:, 1:-1].values\n",
    "y = flower_data.iloc[:, -1].values\n",
    "# le = LabelEncoder()\n",
    "# y = le.fit_transform(y)\n",
    "print(y[:5])\n",
    "print()\n",
    "print(X[:5])"
   ]
  },
  {
   "cell_type": "markdown",
   "id": "dd4133b0-5571-4986-85d7-9d3d56a420ac",
   "metadata": {},
   "source": [
    "Split Train And Test Data"
   ]
  },
  {
   "cell_type": "code",
   "execution_count": 51,
   "id": "4e242648-5d96-49e0-899b-da67412249dc",
   "metadata": {},
   "outputs": [],
   "source": [
    "X_train, X_test, y_train, y_test = train_test_split(X, y, test_size = 0.5, random_state = 0)"
   ]
  },
  {
   "cell_type": "markdown",
   "id": "02810506-7d58-44bc-b639-ae1f8dd21df8",
   "metadata": {},
   "source": [
    "Naive Bayes Classification"
   ]
  },
  {
   "cell_type": "code",
   "execution_count": 52,
   "id": "41d9b1ef-6a23-49af-b304-c34ec7905794",
   "metadata": {},
   "outputs": [],
   "source": [
    "gnb = GaussianNB()\n",
    "gnb_model = gnb.fit(X_train, y_train)\n",
    "y_pred = gnb_model.predict(X_train)"
   ]
  },
  {
   "cell_type": "code",
   "execution_count": 60,
   "id": "6059b6de-83ff-4fc7-848e-c190f353a82b",
   "metadata": {},
   "outputs": [
    {
     "name": "stdout",
     "output_type": "stream",
     "text": [
      "From 75 test data, 50 data was mislabeled.\n",
      "Data Validation Accuracy : 66.66666666666666%\n"
     ]
    }
   ],
   "source": [
    "x = 0\n",
    "wrong_class = 0\n",
    "while x < len(y_test):\n",
    "    if y_pred[x] != y_test[x]:\n",
    "        wrong_class += 1\n",
    "    x += 1\n",
    "data_validation_accuracy = (wrong_class/len(X_test))*100\n",
    "print(\"From {} test data, {} data was mislabeled.\".format(len(X_test), wrong_class))\n",
    "print(\"Data Validation Accuracy : {}%\".format(data_validation_accuracy))\n",
    "# print(y_pred)\n",
    "# print(\"-\"*5)\n",
    "# print(y_test)"
   ]
  },
  {
   "cell_type": "code",
   "execution_count": null,
   "id": "2e1630b7-5aa3-4ece-811d-2a335a53ca46",
   "metadata": {},
   "outputs": [],
   "source": []
  }
 ],
 "metadata": {
  "kernelspec": {
   "display_name": "Python 3",
   "language": "python",
   "name": "python3"
  },
  "language_info": {
   "codemirror_mode": {
    "name": "ipython",
    "version": 3
   },
   "file_extension": ".py",
   "mimetype": "text/x-python",
   "name": "python",
   "nbconvert_exporter": "python",
   "pygments_lexer": "ipython3",
   "version": "3.8.8"
  }
 },
 "nbformat": 4,
 "nbformat_minor": 5
}